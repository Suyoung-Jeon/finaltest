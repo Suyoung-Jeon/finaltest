{
 "cells": [
  {
   "cell_type": "markdown",
   "id": "fcedf188",
   "metadata": {},
   "source": [
    "## 데이터 전처리\n",
    " - 일별로 누적 확진자 수와 누적 사망자 수로 나와있던 데이터를 그 당일 확진자와 사망자가 나오도록 전처리 작업을 실행"
   ]
  },
  {
   "cell_type": "code",
   "execution_count": 1,
   "id": "6c41e813",
   "metadata": {
    "scrolled": true
   },
   "outputs": [
    {
     "data": {
      "text/html": [
       "<div>\n",
       "<style scoped>\n",
       "    .dataframe tbody tr th:only-of-type {\n",
       "        vertical-align: middle;\n",
       "    }\n",
       "\n",
       "    .dataframe tbody tr th {\n",
       "        vertical-align: top;\n",
       "    }\n",
       "\n",
       "    .dataframe thead th {\n",
       "        text-align: right;\n",
       "    }\n",
       "</style>\n",
       "<table border=\"1\" class=\"dataframe\">\n",
       "  <thead>\n",
       "    <tr style=\"text-align: right;\">\n",
       "      <th></th>\n",
       "      <th>국가별</th>\n",
       "      <th>시점</th>\n",
       "      <th>확진자수[명]</th>\n",
       "      <th>사망자수[명]</th>\n",
       "    </tr>\n",
       "  </thead>\n",
       "  <tbody>\n",
       "    <tr>\n",
       "      <th>0</th>\n",
       "      <td>한국</td>\n",
       "      <td>2020. 05. 01</td>\n",
       "      <td>10774</td>\n",
       "      <td>248</td>\n",
       "    </tr>\n",
       "    <tr>\n",
       "      <th>1</th>\n",
       "      <td>한국</td>\n",
       "      <td>2020. 05. 02</td>\n",
       "      <td>10780</td>\n",
       "      <td>250</td>\n",
       "    </tr>\n",
       "    <tr>\n",
       "      <th>2</th>\n",
       "      <td>한국</td>\n",
       "      <td>2020. 05. 03</td>\n",
       "      <td>10793</td>\n",
       "      <td>250</td>\n",
       "    </tr>\n",
       "    <tr>\n",
       "      <th>3</th>\n",
       "      <td>한국</td>\n",
       "      <td>2020. 05. 04</td>\n",
       "      <td>10801</td>\n",
       "      <td>252</td>\n",
       "    </tr>\n",
       "    <tr>\n",
       "      <th>4</th>\n",
       "      <td>한국</td>\n",
       "      <td>2020. 05. 05</td>\n",
       "      <td>10793</td>\n",
       "      <td>250</td>\n",
       "    </tr>\n",
       "  </tbody>\n",
       "</table>\n",
       "</div>"
      ],
      "text/plain": [
       "  국가별            시점  확진자수[명]  사망자수[명]\n",
       "0  한국  2020. 05. 01    10774      248\n",
       "1  한국  2020. 05. 02    10780      250\n",
       "2  한국  2020. 05. 03    10793      250\n",
       "3  한국  2020. 05. 04    10801      252\n",
       "4  한국  2020. 05. 05    10793      250"
      ]
     },
     "execution_count": 1,
     "metadata": {},
     "output_type": "execute_result"
    }
   ],
   "source": [
    "import pandas as pd\n",
    "import csv\n",
    "\n",
    "df=pd.read_csv('101_DT_COVID19_004_20211205155415.csv')\n",
    "df.head()"
   ]
  },
  {
   "cell_type": "code",
   "execution_count": 2,
   "id": "7c301b25",
   "metadata": {},
   "outputs": [
    {
     "name": "stdout",
     "output_type": "stream",
     "text": [
      "<class 'pandas.core.frame.DataFrame'>\n",
      "RangeIndex: 29444 entries, 0 to 29443\n",
      "Data columns (total 4 columns):\n",
      " #   Column   Non-Null Count  Dtype \n",
      "---  ------   --------------  ----- \n",
      " 0   국가별      29444 non-null  object\n",
      " 1   시점       29444 non-null  object\n",
      " 2   확진자수[명]  29444 non-null  int64 \n",
      " 3   사망자수[명]  29444 non-null  int64 \n",
      "dtypes: int64(2), object(2)\n",
      "memory usage: 920.2+ KB\n"
     ]
    }
   ],
   "source": [
    "df.info()"
   ]
  },
  {
   "cell_type": "code",
   "execution_count": 3,
   "id": "9255e9fa",
   "metadata": {},
   "outputs": [],
   "source": [
    "ndf = pd.DataFrame(columns = ['국가별', '시점', '확진자수[명]','사망자수[명]'])"
   ]
  },
  {
   "cell_type": "code",
   "execution_count": 4,
   "id": "17011ae4",
   "metadata": {},
   "outputs": [],
   "source": [
    "ndf = ndf.astype({'확진자수[명]':'int64'})\n",
    "ndf = ndf.astype({'사망자수[명]':'int64'})"
   ]
  },
  {
   "cell_type": "code",
   "execution_count": 5,
   "id": "1c232b54",
   "metadata": {},
   "outputs": [
    {
     "data": {
      "text/html": [
       "<div>\n",
       "<style scoped>\n",
       "    .dataframe tbody tr th:only-of-type {\n",
       "        vertical-align: middle;\n",
       "    }\n",
       "\n",
       "    .dataframe tbody tr th {\n",
       "        vertical-align: top;\n",
       "    }\n",
       "\n",
       "    .dataframe thead th {\n",
       "        text-align: right;\n",
       "    }\n",
       "</style>\n",
       "<table border=\"1\" class=\"dataframe\">\n",
       "  <thead>\n",
       "    <tr style=\"text-align: right;\">\n",
       "      <th></th>\n",
       "      <th>국가별</th>\n",
       "      <th>시점</th>\n",
       "      <th>확진자수[명]</th>\n",
       "      <th>사망자수[명]</th>\n",
       "    </tr>\n",
       "  </thead>\n",
       "  <tbody>\n",
       "  </tbody>\n",
       "</table>\n",
       "</div>"
      ],
      "text/plain": [
       "Empty DataFrame\n",
       "Columns: [국가별, 시점, 확진자수[명], 사망자수[명]]\n",
       "Index: []"
      ]
     },
     "execution_count": 5,
     "metadata": {},
     "output_type": "execute_result"
    }
   ],
   "source": [
    "ndf.head()"
   ]
  },
  {
   "cell_type": "code",
   "execution_count": 6,
   "id": "efe87588",
   "metadata": {},
   "outputs": [
    {
     "name": "stdout",
     "output_type": "stream",
     "text": [
      "<class 'pandas.core.frame.DataFrame'>\n",
      "Index: 0 entries\n",
      "Data columns (total 4 columns):\n",
      " #   Column   Non-Null Count  Dtype \n",
      "---  ------   --------------  ----- \n",
      " 0   국가별      0 non-null      object\n",
      " 1   시점       0 non-null      object\n",
      " 2   확진자수[명]  0 non-null      int64 \n",
      " 3   사망자수[명]  0 non-null      int64 \n",
      "dtypes: int64(2), object(2)\n",
      "memory usage: 0.0+ bytes\n"
     ]
    }
   ],
   "source": [
    "ndf.info()"
   ]
  },
  {
   "cell_type": "code",
   "execution_count": 7,
   "id": "3409a54e",
   "metadata": {},
   "outputs": [],
   "source": [
    "country=\"\"\n",
    "p=0\n",
    "t=0\n",
    "for row in df.itertuples():\n",
    "    if(row[1]=='기타지역 영토'):\n",
    "        continue\n",
    "    if(row[1] != country ):\n",
    "        country = row[1]\n",
    "        p=row[3]\n",
    "        t=row[4]\n",
    "        ndf = ndf.append({'국가별':row[1], '시점':row[2], '확진자수[명]':row[3],'사망자수[명]':row[4]}, ignore_index=True)\n",
    "    else:\n",
    "        ndf= ndf.append({'국가별':row[1], '시점':row[2], '확진자수[명]':row[3]-p,'사망자수[명]':row[4]-t}, ignore_index=True)\n",
    "        p=row[3]\n",
    "        t=row[4]"
   ]
  },
  {
   "cell_type": "code",
   "execution_count": 8,
   "id": "13e7686c",
   "metadata": {},
   "outputs": [
    {
     "name": "stdout",
     "output_type": "stream",
     "text": [
      "<class 'pandas.core.frame.DataFrame'>\n",
      "RangeIndex: 29444 entries, 0 to 29443\n",
      "Data columns (total 4 columns):\n",
      " #   Column   Non-Null Count  Dtype \n",
      "---  ------   --------------  ----- \n",
      " 0   국가별      29444 non-null  object\n",
      " 1   시점       29444 non-null  object\n",
      " 2   확진자수[명]  29444 non-null  int64 \n",
      " 3   사망자수[명]  29444 non-null  int64 \n",
      "dtypes: int64(2), object(2)\n",
      "memory usage: 920.2+ KB\n"
     ]
    }
   ],
   "source": [
    "ndf.info()"
   ]
  },
  {
   "cell_type": "code",
   "execution_count": 9,
   "id": "5d2b7c60",
   "metadata": {},
   "outputs": [
    {
     "data": {
      "text/html": [
       "<div>\n",
       "<style scoped>\n",
       "    .dataframe tbody tr th:only-of-type {\n",
       "        vertical-align: middle;\n",
       "    }\n",
       "\n",
       "    .dataframe tbody tr th {\n",
       "        vertical-align: top;\n",
       "    }\n",
       "\n",
       "    .dataframe thead th {\n",
       "        text-align: right;\n",
       "    }\n",
       "</style>\n",
       "<table border=\"1\" class=\"dataframe\">\n",
       "  <thead>\n",
       "    <tr style=\"text-align: right;\">\n",
       "      <th></th>\n",
       "      <th>국가별</th>\n",
       "      <th>시점</th>\n",
       "      <th>확진자수[명]</th>\n",
       "      <th>사망자수[명]</th>\n",
       "    </tr>\n",
       "  </thead>\n",
       "  <tbody>\n",
       "    <tr>\n",
       "      <th>0</th>\n",
       "      <td>한국</td>\n",
       "      <td>2020. 05. 01</td>\n",
       "      <td>10774</td>\n",
       "      <td>248</td>\n",
       "    </tr>\n",
       "    <tr>\n",
       "      <th>1</th>\n",
       "      <td>한국</td>\n",
       "      <td>2020. 05. 02</td>\n",
       "      <td>6</td>\n",
       "      <td>2</td>\n",
       "    </tr>\n",
       "    <tr>\n",
       "      <th>2</th>\n",
       "      <td>한국</td>\n",
       "      <td>2020. 05. 03</td>\n",
       "      <td>13</td>\n",
       "      <td>0</td>\n",
       "    </tr>\n",
       "    <tr>\n",
       "      <th>3</th>\n",
       "      <td>한국</td>\n",
       "      <td>2020. 05. 04</td>\n",
       "      <td>8</td>\n",
       "      <td>2</td>\n",
       "    </tr>\n",
       "    <tr>\n",
       "      <th>4</th>\n",
       "      <td>한국</td>\n",
       "      <td>2020. 05. 05</td>\n",
       "      <td>-8</td>\n",
       "      <td>-2</td>\n",
       "    </tr>\n",
       "  </tbody>\n",
       "</table>\n",
       "</div>"
      ],
      "text/plain": [
       "  국가별            시점  확진자수[명]  사망자수[명]\n",
       "0  한국  2020. 05. 01    10774      248\n",
       "1  한국  2020. 05. 02        6        2\n",
       "2  한국  2020. 05. 03       13        0\n",
       "3  한국  2020. 05. 04        8        2\n",
       "4  한국  2020. 05. 05       -8       -2"
      ]
     },
     "execution_count": 9,
     "metadata": {},
     "output_type": "execute_result"
    }
   ],
   "source": [
    "ndf.head()"
   ]
  },
  {
   "cell_type": "code",
   "execution_count": 10,
   "id": "cda8c5ac",
   "metadata": {},
   "outputs": [],
   "source": [
    "ndf.to_csv('korona_world.csv', index=False, header=False, encoding='utf8')"
   ]
  }
 ],
 "metadata": {
  "kernelspec": {
   "display_name": "Python 3 (ipykernel)",
   "language": "python",
   "name": "python3"
  },
  "language_info": {
   "codemirror_mode": {
    "name": "ipython",
    "version": 3
   },
   "file_extension": ".py",
   "mimetype": "text/x-python",
   "name": "python",
   "nbconvert_exporter": "python",
   "pygments_lexer": "ipython3",
   "version": "3.8.11"
  }
 },
 "nbformat": 4,
 "nbformat_minor": 5
}
